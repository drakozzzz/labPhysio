{
  "nbformat": 4,
  "nbformat_minor": 0,
  "metadata": {
    "colab": {
      "provenance": [],
      "authorship_tag": "ABX9TyMrPBI5jJzTGuCJY71/CLXC",
      "include_colab_link": true
    },
    "kernelspec": {
      "name": "python3",
      "display_name": "Python 3"
    },
    "language_info": {
      "name": "python"
    }
  },
  "cells": [
    {
      "cell_type": "markdown",
      "metadata": {
        "id": "view-in-github",
        "colab_type": "text"
      },
      "source": [
        "<a href=\"https://colab.research.google.com/github/drakozzzz/labPhysio/blob/main/Lab_1.ipynb\" target=\"_parent\"><img src=\"https://colab.research.google.com/assets/colab-badge.svg\" alt=\"Open In Colab\"/></a>"
      ]
    },
    {
      "cell_type": "markdown",
      "source": [
        "# Purpose\n",
        "The Purpose of this lab is to get us familiarized with these tools we would be using in Physiology.\n",
        "\n",
        "#Procedures\n",
        "1. Observe the operat\n",
        "ion of these instruments.\n",
        "2. Make a concerted effort to recognize and identify each on sight.\n",
        "3. Understand the application of the “black box” instrumentation to experiments and\n",
        "measurements of human physiological events\n",
        "1. Become familiar with the basic metric units of measure.\n",
        "2. Learn the basic unit of each measurement.\n",
        "3. Understand the significance of the prefixes of each unit.\n",
        "4. Complete the worksheet on page 6 using the following information\n",
        "\n",
        "# Results\n",
        "\n",
        "1. Length from top to bottom : 27.5mm - 2.75 cm\n",
        "2. Width from side to side : 215mm- 21.5 cm\n",
        "3. Depth from bottom to top: 21mm- 2.1 cm\n",
        "We then poured an\n",
        "amount of water into a beaker and then transferred it into a graduated cylinder and recorded the\n",
        "measurements.\n",
        "1. Initial water in beaker : 65ml- 0.65l\n",
        "2. Water transferred to graduated cylinder: 55ml-0.5l\n",
        "After the volume measurements we then began PH Measurements.\n",
        "1. Sample A- 4Ph\n",
        "2. Sample B- 7Ph\n",
        "3. Sample C- 9Ph\n",
        "After completing the Ph measurements we then moved on to heart rate.\n",
        "1. Pulse rate after 15 seconds = 1.13 beats/second = 67.8 beats/minute\n",
        "2. Pulse rate after 60 seconds = 70 beats/minute\n",
        "=1.16 beats/second\n",
        "=0.00116667 beats/millisecond\n",
        "\n",
        "\n",
        "# Discussion\n",
        "The purpose of this lab was to familiarize our selves with the tools and I think we did that. The math was pretty easy aswell so it was a good time.\n",
        "# Conclusion\n",
        "In conclusion the purpose of this lab was completed. My partner and I were able to understand the tools that we are goin to use in Physiology.\n"
      ],
      "metadata": {
        "id": "FfmA7M6yc-xx"
      }
    },
    {
      "cell_type": "code",
      "execution_count": null,
      "metadata": {
        "id": "uBsX6AxGc1Wk"
      },
      "outputs": [],
      "source": []
    }
  ]
}