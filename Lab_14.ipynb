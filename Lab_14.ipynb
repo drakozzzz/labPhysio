{
  "nbformat": 4,
  "nbformat_minor": 0,
  "metadata": {
    "colab": {
      "provenance": [],
      "authorship_tag": "ABX9TyOmVIDCrO9z5TXDFVSFu54T",
      "include_colab_link": true
    },
    "kernelspec": {
      "name": "python3",
      "display_name": "Python 3"
    },
    "language_info": {
      "name": "python"
    }
  },
  "cells": [
    {
      "cell_type": "markdown",
      "metadata": {
        "id": "view-in-github",
        "colab_type": "text"
      },
      "source": [
        "<a href=\"https://colab.research.google.com/github/drakozzzz/labPhysio/blob/main/Lab_14.ipynb\" target=\"_parent\"><img src=\"https://colab.research.google.com/assets/colab-badge.svg\" alt=\"Open In Colab\"/></a>"
      ]
    },
    {
      "cell_type": "markdown",
      "source": [
        "#Purpose\n",
        "The Forced Vital Capacity (FVC) test is crucial as it assesses how quickly air is pushed out of the lungs. Healthy lungs can expel at least 80% of vital capacity within one second and around 95% within three seconds. Inability to achieve these volumes may suggest trapped air in the lungs, signaling conditions like asthma, chronic bronchitis, or emphysema.\n",
        "\n",
        "\n",
        "\n",
        "\n",
        "\n",
        "\n",
        "\n",
        "#Procedure\n",
        "The Morgan ComPAS computer program has already calculated and factored in the BTPS\n",
        "(Body Temperature Pressure Saturation) correction factor. 2. Fully insert the Pneumotrac filter/mouthpiece you purchased at the bookstore. If you have difficulty keeping air from leaking through your nose, you may need to wear a nose clip, as air leakage will result in inaccurate results. 3. Be sure the correct student information is loaded up before you start the FVC test. 4. After starting the FVC test, follow the verbal instructions of your instructor: begin with your mouth off the mouthpiece so the pneumotach can equilibrate; after getting a good seal with your mouth, start with tidal breathing; when you are ready, take in the deepest breath possible, then forcefully blow it out as fast as you can and keep squeezing until instructed to stop. The instructor will print out your “FVC Volume Time Curve” (part of your 14-B results), and it should look similar to Figure 14-2. 5. To calculate the vital capacity for the FVC test (also called the forced expiratory volume), measure the height of the highest peak of the curve in mm and multiply that length in mm by 66.67 ml/mm (our FVC conversion factor). Then round off ml to whole numbers. (NOTE: this is similar to the 14-A SVC calculations, but with a different conversion factor.) Just like in 14-A, use the gridlines to double check that your figures are in the ballpark (e.g., if you calculated the vital capacity in Fig. 14-2 on p. 94 to be 3635 ml, you must be off because you can tell from just looking at the gridlines that it is much closer to 4500 ml than 3635 ml). Can you see this in Fig. 14-2? 6. Go to the “1 second” vertical line in your FVC graph and measure the height where the curved line crosses the 1 second vertical line in the same way as you did for the FVC in step 5. This is your FEV1 volume. 7. Divide the volume you calculated for FEV1 by the volume you calculated for the vital capacity in step 6, and then multiply by 100 to determine the percentage of the vital capacity exhaled at one second. 8. Go to the “3 second” vertical line in your FVC graph and measure the height where the curved line crosses the 3 second vertical line in the same way as you did in steps 5 and 6. This is your FEV3 volume. 9. Divide the volume you calculated for FEV3 by the volume you calculated for the vital capacity in step 6, and then multiply by 100 to determine the percentage of the vital capacity exhaled at three seconds. 10. Compare these values to the predicted values and explain possible causes for any differences."
      ],
      "metadata": {
        "id": "z29r8VdVmXqN"
      }
    },
    {
      "cell_type": "code",
      "execution_count": 1,
      "metadata": {
        "id": "6k6yjtQpam_9"
      },
      "outputs": [],
      "source": [
        "# import packages\n",
        "import statistics\n",
        "import pandas as pd\n",
        "import scipy.stats as stats\n",
        "from scipy.stats import sem\n",
        "from statistics import mean, stdev\n",
        "import matplotlib.pyplot as plt\n",
        "import numpy as np\n",
        "#include if using a jupyter notebook, remove if using a .py file\n",
        "%matplotlib inline"
      ]
    },
    {
      "cell_type": "code",
      "source": [
        "f_vc = [2.7,3.7,3.2,3.45,3.2,3.1]\n",
        "m_vc = [3.3,4.5,3.7]"
      ],
      "metadata": {
        "id": "I88ZBvfgknhL"
      },
      "execution_count": 2,
      "outputs": []
    },
    {
      "cell_type": "code",
      "source": [
        "fvc_mean = mean(f_vc)\n",
        "mvc_mean = mean(m_vc)\n",
        "fvc_mean, mvc_mean"
      ],
      "metadata": {
        "colab": {
          "base_uri": "https://localhost:8080/"
        },
        "id": "77MXFY8okqEI",
        "outputId": "51e62f57-850d-4f4b-86dc-b93d17cebf90"
      },
      "execution_count": 3,
      "outputs": [
        {
          "output_type": "execute_result",
          "data": {
            "text/plain": [
              "(3.225, 3.8333333333333335)"
            ]
          },
          "metadata": {},
          "execution_count": 3
        }
      ]
    },
    {
      "cell_type": "code",
      "source": [
        "\n",
        "fvc_sem = sem(f_vc)\n",
        "mvc_sem = sem(m_vc)\n",
        "fvc_sem, mvc_sem"
      ],
      "metadata": {
        "colab": {
          "base_uri": "https://localhost:8080/"
        },
        "id": "-dkfzP3PksvW",
        "outputId": "763fcaff-a45f-44b8-c662-99ee42128b12"
      },
      "execution_count": 4,
      "outputs": [
        {
          "output_type": "execute_result",
          "data": {
            "text/plain": [
              "(0.13768926368215256, 0.3527668414752788)"
            ]
          },
          "metadata": {},
          "execution_count": 4
        }
      ]
    },
    {
      "cell_type": "markdown",
      "source": [
        "#Results\n"
      ],
      "metadata": {
        "id": "_0-WUrPGkxQS"
      }
    },
    {
      "cell_type": "markdown",
      "source": [
        "\n",
        "The graph below shows that Forced Vital Capacity (FVC) measurements differ between biological sexes. Biological males exhibit higher FVC compared to biological females."
      ],
      "metadata": {
        "id": "2yMNn9bpkzlR"
      }
    },
    {
      "cell_type": "code",
      "source": [
        "plt.bar(['Female VC','Male VC'],[fvc_mean,mvc_mean], yerr=[fvc_sem,mvc_sem], capsize=10)\n",
        "plt.xlabel('Biological sex')\n",
        "plt.ylabel('Vital Capacity (L)')\n",
        "plt.title ('Vital Capacity Differences in Male vs Female')"
      ],
      "metadata": {
        "colab": {
          "base_uri": "https://localhost:8080/",
          "height": 489
        },
        "id": "fhsB4jlKlJC3",
        "outputId": "7acae0b4-7561-4248-e03e-3c9f8f312759"
      },
      "execution_count": 5,
      "outputs": [
        {
          "output_type": "execute_result",
          "data": {
            "text/plain": [
              "Text(0.5, 1.0, 'Vital Capacity Differences in Male vs Female')"
            ]
          },
          "metadata": {},
          "execution_count": 5
        },
        {
          "output_type": "display_data",
          "data": {
            "text/plain": [
              "<Figure size 640x480 with 1 Axes>"
            ],
            "image/png": "[encoded data removed]"
          },
          "metadata": {}
        }
      ]
    },
    {
      "cell_type": "markdown",
      "source": [
        "#Discussion\n",
        "The data depicted above indicates that biological males have higher Forced Vital Capacity (FVC) compared to biological females. This discrepancy may be attributed, in part, to larger airway and lung diameters in biological males as compared to biological females.\n",
        "#Conclusion\n",
        " This lab effectively highlights the variance in Forced Vital Capacity (FVC) between biological males and females. Further exploration suggests that the observed difference may be attributed to the heightened airway diameter and lung volume in males compared to females. Additional research could provide deeper insights into the factors influencing these distinctions."
      ],
      "metadata": {
        "id": "FhvoR0RhlTdf"
      }
    }
  ]
}