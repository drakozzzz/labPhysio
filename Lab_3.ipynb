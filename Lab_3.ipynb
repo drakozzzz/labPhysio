{
  "nbformat": 4,
  "nbformat_minor": 0,
  "metadata": {
    "colab": {
      "provenance": [],
      "authorship_tag": "ABX9TyMEAAALajaOEg9LJmgvi6aD",
      "include_colab_link": true
    },
    "kernelspec": {
      "name": "python3",
      "display_name": "Python 3"
    },
    "language_info": {
      "name": "python"
    }
  },
  "cells": [
    {
      "cell_type": "markdown",
      "metadata": {
        "id": "view-in-github",
        "colab_type": "text"
      },
      "source": [
        "<a href=\"https://colab.research.google.com/github/drakozzzz/labPhysio/blob/main/Lab_3.ipynb\" target=\"_parent\"><img src=\"https://colab.research.google.com/assets/colab-badge.svg\" alt=\"Open In Colab\"/></a>"
      ]
    },
    {
      "cell_type": "markdown",
      "source": [
        "# Purpose\n",
        "The Purpose of this lab is to show us how enzymes interact with bile salts and dairy cream after\n",
        "being incubated. This lab in particular shows us how Pancreatic Lipase interacts with lipid\n",
        "droplets with and without a bile salt emulsifying agent.\n",
        "\n",
        "# Procedures\n",
        "1. Add just enough litmus powder to a container of dairy cream to produce a medium blue\n",
        "color. Pour 3 ml of the litmus cream into 4 separate test tubes. Into two additional test tubes\n",
        "pour 3 ml of 2% pancreatin. Preincubate the litmus cream and the pancreatin separately in a 37\n",
        "C water bath for 5 minutes. Then prepare four test tubes as follows:\n",
        "17\n",
        "Tube #1: 3 ml cream + 3 ml pancreatin\n",
        "Tube #2: 3 ml cream + 3 ml distilled water\n",
        "Tube #3: 3 ml cream + 3 ml pancreatin + pinch of bile salts Tube #4: 3 ml cream + 3 ml distilled\n",
        "water + pinch bile salts\n",
        "2. Gently shake each tube for 30 seconds to mix in the bile salts. Incubate all four tubes in a 37\n",
        "C water bath for 1 hour, checking every minute for the first 5 minutes or until the first tube\n",
        "changes color, then every 15 minutes for the rest of the hour. Record the time and number of\n",
        "the tube. Continue checking for the remainder of the hour.\n",
        "3. Remove the tubes from the water bath. Test the pH of each tube using pH paper and note the\n",
        "odor and color of each tube.\n",
        "NOTE: Blue litmus will turn pink in an acid environment.\n",
        "\n",
        "# Results"
      ],
      "metadata": {
        "id": "ZjVVlhmMflOO"
      }
    },
    {
      "cell_type": "code",
      "source": [
        "# Using Markdown to create a table\n",
        "\n",
        "markdown_table = \"\"\"\n",
        "| Tube | Color        | pH | Odor        | Time to Change Color |\n",
        "|------|--------------|----|-------------|-----------------------|\n",
        "| 1    | Blueish Pink | 5  | none        | 10 mins               |\n",
        "| 2    | Lavender     | 8  | none        | no change             |\n",
        "| 3    | Pink         | 3  | light odor  | 20 mins               |\n",
        "| 4    | Lavender     | 8  | strong odor | no change             |\n",
        "\"\"\"\n",
        "\n",
        "# Displaying the table\n",
        "from IPython.display import Markdown\n",
        "\n",
        "Markdown(markdown_table)\n"
      ],
      "metadata": {
        "colab": {
          "base_uri": "https://localhost:8080/",
          "height": 175
        },
        "id": "AGeijHDc0OAp",
        "outputId": "cdc8e72b-3d4b-4efd-ea28-98840253c658"
      },
      "execution_count": 1,
      "outputs": [
        {
          "output_type": "execute_result",
          "data": {
            "text/plain": [
              "<IPython.core.display.Markdown object>"
            ],
            "text/markdown": "\n| Tube | Color        | pH | Odor        | Time to Change Color |\n|------|--------------|----|-------------|-----------------------|\n| 1    | Blueish Pink | 5  | none        | 10 mins               |\n| 2    | Lavender     | 8  | none        | no change             |\n| 3    | Pink         | 3  | light odor  | 20 mins               |\n| 4    | Lavender     | 8  | strong odor | no change             |\n"
          },
          "metadata": {},
          "execution_count": 1
        }
      ]
    },
    {
      "cell_type": "markdown",
      "source": [
        "# Discusion\n",
        "There seems to be little to discuss regarding these lab experiments; all our data appeared normal and well within acceptable limits. The labs posed no significant challenges, as the instructions were clear, straightforward, and easily comprehensible."
      ],
      "metadata": {
        "id": "J11RywNF0cb5"
      }
    },
    {
      "cell_type": "markdown",
      "source": [
        "#Conclusion\n",
        "The lab proved to be simple, with clear instructions. Its objective was to showcase the interaction between bile salts and lipids post-exposure to heat, a demonstration that I believe was effectively presented through the pH variations and distinct odor contrasts detailed in the table above."
      ],
      "metadata": {
        "id": "BLt-5MFf0lJ-"
      }
    }
  ]
}