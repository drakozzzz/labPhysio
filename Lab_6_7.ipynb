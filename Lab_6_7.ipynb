{
  "nbformat": 4,
  "nbformat_minor": 0,
  "metadata": {
    "colab": {
      "provenance": [],
      "authorship_tag": "ABX9TyO/+6nDiIfMqDp8OSL4A2ma",
      "include_colab_link": true
    },
    "kernelspec": {
      "name": "python3",
      "display_name": "Python 3"
    },
    "language_info": {
      "name": "python"
    }
  },
  "cells": [
    {
      "cell_type": "markdown",
      "metadata": {
        "id": "view-in-github",
        "colab_type": "text"
      },
      "source": [
        "<a href=\"https://colab.research.google.com/github/drakozzzz/labPhysio/blob/main/Lab_6_7.ipynb\" target=\"_parent\"><img src=\"https://colab.research.google.com/assets/colab-badge.svg\" alt=\"Open In Colab\"/></a>"
      ]
    },
    {
      "cell_type": "markdown",
      "source": [
        "#Purpose\n",
        "Labs 6 and 7 were made to show us how our sensory physiology works. It involved small experiments using bottles with different smells, calipers, cold and hot water, eye/ color charts and an audio measuring device.\n"
      ],
      "metadata": {
        "id": "xh64PRRfo4q0"
      }
    },
    {
      "cell_type": "markdown",
      "source": [
        "#Procedure\n",
        "A-1: Two-point discrimination\n",
        "The ability to distinguish two distinct points on the skin surface will be recorded.\n",
        "Procedure\n",
        "1. With your partner’s eyes closed, apply two caliper pinpoints as closely together as\n",
        "possible on your partner’s skin on the palm of his/her hand.\n",
        "2. Remove the pins and move them 1 millimeter apart. Reapply the caliper points to your\n",
        "partner’s skin. Repeat this procedure until your partner can discriminate two distinct points.\n",
        "3. Record this distance between pins at which your partner can discriminate two separate caliper\n",
        "points.\n",
        "4. Compare results obtained from the following areas: a. palm of hand\n",
        "b. back of hand\n",
        "c. fingertip\n",
        "d. outer edge of the lips e. back of neck\n",
        "5. Have your partner repeat this experiment on your skin.\n",
        "6. Interpret the results you have obtained.\n",
        "A-2: Accommodation of thermoreceptors.\n",
        "Accommodation, or sensory adaptation, occurs when receptors generate fewer impulses during\n",
        "constant stimulation. Accommodation of cutaneous thermoreceptors will be recorded.\n",
        "Procedure\n",
        "1. Place your left fingers in 15C water and your right fingers in warm water (37 C) and\n",
        "record the sensation of each. Keep hands immersed for 2 minutes.\n",
        "2. After two minutes, describe the sensation in each hand.\n",
        "3. Remove hands and promptly place them both in 25 C water. Describe the immediate sensation\n",
        "in each hand.\n",
        "6/7-C: Auditory measurements\n",
        "Sound is measured in terms of amplitude (decibels – dB) and frequency (Hertz – Hz). Tuning\n",
        "fork tests and an audiometer will be used to evaluate auditory function.\n",
        "C-1: Tuning fork tests\n",
        "These tests utilize the principle of bone conduction to directly vibrate the cochlear hair cells.\n",
        "They should be done in a quiet room for most reliable results.\n",
        "1. Rinne’s test (checks for middle ear damage)\n",
        "Procedure\n",
        "1. Plug your left ear with cotton or hold your hand over it and test the right ear.\n",
        "2. Hold the handle of a vibrating tuning fork to the right mastoid process.\n",
        "3. When the sound disappears, move the fork near the external auditory canal. 4. Reappearance\n",
        "of the sound indicates no middle ear damage.\n",
        "5. Repeat the test with your left ear\n",
        "6. Record the results for each ear.\n",
        "2. Weber’s test (checks for nerve or conduction deafness)\n",
        "NOTE: This test does not need to be performed if no middle ear damage was detected by the\n",
        "Rinne’s test.\n",
        "Procedure\n",
        "1. Hold the handle of a vibrating tuning fork (512 Hz) to the bridge of your\n",
        "nose.\n",
        "2. Lateralization of sound to one ear indicates deafness.\n",
        "a. Lateralization to poor ear indicates conduction deafness. b. Lateralization to better ear\n",
        "indicates nerve deafness.\n",
        "C-2: Audiometry\n",
        "An audiometer measures hearing acuity by presenting pure tones to the subject’s ear through a\n",
        "set of color-coded earphones (red = right ear, blue = left ear). The intensity required to first\n",
        "perceive the signal is recorded for each ear at a number of frequencies. The presentation of\n",
        "signals should be randomized. The results are plotted on an audiogram to determine individual\n",
        "hearing acuity compared to normal values.\n",
        "Procedure\n",
        "1. In a quiet room, the instructor will demonstrate the proper method of operating the\n",
        "audiometer.\n",
        "2. Audiometry tests will be conducted in pairs. Each student will take his/her partner’s\n",
        "audiogram.\n",
        "3. Record your results on the worksheet on page 44.\n",
        "4. Analyze the audiograms in the following way:\n",
        "a. Average the values obtained for each ear for the frequencies of 500 Hz, 1000 Hz, and\n",
        "2000 Hz.\n",
        "b. Subtract 26 dB from each average.\n",
        "c. If the difference is greater than 26, multiply this number by 1.5%. This equals the percent of\n",
        "impairment of each ear.\n",
        "Percent impairment:\n",
        "Right ear = 0 x 1.5% = 0.0% Leftear =4x1.5%=6.0%\n",
        "5. To determine the percent of biaural impairment perform the following calculation:\n",
        "Biaural impairment = (% impairment of good x 5) + (% impairment of bad ear) 6\n",
        "6. Record the results of these calculations.\n",
        "E-1: Demonstration of the blind spot\n",
        "Procedure\n",
        "1. Cover your left eye and focus the right eye on the center of the cross below.\n",
        "2. Slowly bring the page closer to your eye until the spot disappears.\n",
        "3. Have your partner measure this distance from your eye to the page.\n",
        "4. The image of the spot is now superimposed on the optic nerve. Explain the lack of vision at\n",
        "this point.\n",
        "E-2: The Snellen test\n",
        "The ability to discriminate fine detail is known as visual acuity. The Snellen test uses a\n",
        "standardized eye chart to evaluate visual acuity. You will be using one of several versions of this\n",
        "eye chart in the form of the wall chart in the laboratory.\n",
        "Procedure\n",
        "1. Stand 20 feet away from the Snellen chart. Cover your left eye.\n",
        "2. Attempt to read the line designated “20”.\n",
        "3. If you cannot read line 20, attempt line 30, 40, 50, 70, 100 or 200 until a line is legible.\n",
        "Perform these attempts with your left eye, covering your right eye.\n",
        "4. The Snellen chart is analyzed in the following way:\n",
        "Visual acuity = Distance you read the letters Lowest line read clearly at 20 feet\n",
        "Examples:\n",
        "Nearsightedness (myopia) = 20/30\n",
        "Normal = 20/20\n",
        "Farsightedness (hyperopia) = 30/20\n",
        "E-3: Astigmatism\n",
        "An abnormal curvature of the cornea may produce a blurred image on the retina known as an\n",
        "astigmatism.\n",
        "Procedure\n",
        "1. Stand approximately 8 – 10 inches away from the radial astigmatism eye chart so that it\n",
        "fills your field of vision. Cover your left eye.\n",
        "2. Focus on the lines in the vertical plane with your right eye.\n",
        "3. If a blur appears in the lateral lines or the lines converge into one, you have an astigmatism in\n",
        "this plane of your eye.\n",
        "4. Record the results of this test and repeat with the left eye.\n",
        "E-4: Color vision\n",
        "Cones contain visual pigments that respond to specific wavelengths of light to produce nervous\n",
        "impulses pertaining to color. The next two tests will explore different aspects of color vision.\n",
        "1. Negative After-images\n",
        "Staring at an image of specific color for too long will “bleach out” visual pigments of that color.\n",
        "Glancing at a white surface will reveal an image of complementary color to the original.\n",
        "NOTE: This test will be done first as a class, then may be repeated on an individual\n",
        "basis.\n",
        "Procedure\n",
        "1. Stare at different colored objects provided by your lab instructor for 30 seconds each, and then\n",
        "shift your glance to a white sheet of paper. These may include but not be limited to colored\n",
        "squares on white paper, stripes of various colors against white paper, colored flags or scenic\n",
        "views.\n",
        "2. Record the negative after-images seen for each color. Were you able to predict any of these?\n",
        "2. Color-blindness test\n",
        "Color blindness is a genetic abnormality that is carried by the X chromosome. (See page 45.) The\n",
        "most common form is red-green color blindness, wherein one or the other pigment or sometimes\n",
        "both from the respective cone is in small amounts or lacking altogether. Several versions of the\n",
        "test for color blindness are available. In this laboratory, you will be using the Ichikawa color\n",
        "blindness charts.\n",
        "Procedure\n",
        "1. Obtain the Ichikawa color blindness charts.\n",
        "2. Attempt to read the numbers of each pattern on the test panels. (There are some “practice”\n",
        "panels before the actual test panels begin.)\n",
        "3. After the first 10 test panels, if your score indicates color blindness, continue with the next\n",
        "five test panels to determine which color deficiency exists.\n",
        "4. Record your results on the worksheet on page 46.\n",
        "E-5: Perimetry\n",
        "The arrangement of rods and cones in the retina is not at random. Using objects of different\n",
        "colors, you will map the locations of the cones in your retina for one eye.\n",
        "Procedure\n",
        "1. Seat yourself before the perimeter board with your right eye at the edge of the\n",
        "semicircle. Cover your left eye. Stare at the center line.\n",
        "2. Your lab partner will introduce several different colored blocks into your field of vision.\n",
        "Identify these blocks by color. Do not take your eye from the center of the chart or uncover your\n",
        "left eye.\n",
        "3. Your partner will record the degree at which the colors were discriminated on the perimetry\n",
        "score sheet on page 47.\n",
        "4. Repeat these procedures for each block for both the horizontal and vertical perimetry charts.\n",
        "Record the data and connect the same colored dots to form an outline of cone placement of your\n",
        "right eye on your data sheet.\n",
        "5. Explain these results in regards to cone placement in your retina"
      ],
      "metadata": {
        "id": "IosOgXRbp5B0"
      }
    },
    {
      "cell_type": "markdown",
      "source": [
        "#Results\n",
        "#Lab A1\n",
        "Palm of hand .10\n",
        "Back of hand .7\n",
        "Fingertip .2\n",
        "Back of neck .4\n",
        "#Lab B\n",
        "22 secs for camphoral\n",
        "17 secs after pepermint and cloves\n",
        "#Lab A2\n",
        "The sensation between cold and hot switched bewteen hands in the room tempature water.\n",
        "#Lab E3\n",
        "Looked the same in both eyes\n",
        "#Lab C1\n",
        "Both ears seem fine\n",
        "#Lab E4\n",
        "Colors flipped to opposite of each other, blue turned to red.\n",
        "Color blindness test shows no color blindness\n",
        "#Lab E1\n",
        "7 inches away from my face\n"
      ],
      "metadata": {
        "id": "K4hE3TqRr-59"
      }
    },
    {
      "cell_type": "markdown",
      "source": [
        "#Lab C2"
      ],
      "metadata": {
        "id": "uvA6NBVWv7id"
      }
    },
    {
      "cell_type": "code",
      "source": [
        "import matplotlib.pyplot as plt"
      ],
      "metadata": {
        "id": "fonaP4k0pwhz"
      },
      "execution_count": 5,
      "outputs": []
    },
    {
      "cell_type": "code",
      "execution_count": 1,
      "metadata": {
        "id": "Y-sFEPQfo2Sg"
      },
      "outputs": [],
      "source": [
        "RIGHT_500 = 10\n",
        "RIGHT_1000 = 15\n",
        "RIGHT_2000 = 10\n",
        "\n",
        "LEFT_500 = 25\n",
        "LEFT_1000 = 25\n",
        "LEFT_2000 = 15"
      ]
    },
    {
      "cell_type": "code",
      "source": [
        "Right_x = 500,1000,2000\n",
        "Right_y = RIGHT_500, RIGHT_1000, RIGHT_2000\n",
        "\n",
        "Left_x = Right_x\n",
        "Left_y = LEFT_500, LEFT_1000, LEFT_2000"
      ],
      "metadata": {
        "id": "WzS8-_XrpjUD"
      },
      "execution_count": 2,
      "outputs": []
    },
    {
      "cell_type": "code",
      "source": [
        "plt.plot(Right_x, Right_y, '-o', label = \"Right\" )\n",
        "plt.plot(Left_x, Left_y, '-o', label = \"Left\" )\n",
        "plt.ylabel('Loudness (dB)')\n",
        "plt.xlabel(\"Frequency (MHz)\")\n",
        "plt.title('Right and Left Hearing Profiles')\n",
        "plt.legend()\n",
        "plt.show()\n"
      ],
      "metadata": {
        "colab": {
          "base_uri": "https://localhost:8080/",
          "height": 472
        },
        "id": "Grh-ZXzQpns8",
        "outputId": "83b18344-d8d4-4acd-854e-bde8f35559f6"
      },
      "execution_count": 6,
      "outputs": [
        {
          "output_type": "display_data",
          "data": {
            "text/plain": [
              "<Figure size 640x480 with 1 Axes>"
            ],
            "image/png": "[encoded data removed]"
          },
          "metadata": {}
        }
      ]
    },
    {
      "cell_type": "markdown",
      "source": [
        "#Disccusion\n",
        "This lab was easy to complete. There were no things messing up and\n",
        "all experiments were easy to understand and complete"
      ],
      "metadata": {
        "id": "cL3XJZxhwKIs"
      }
    },
    {
      "cell_type": "markdown",
      "source": [
        "#Conclusion\n",
        "Overall, comprehending and finishing this laboratory assignment proved to be straightforward. The experiments yielded data on numerous senses and their responsiveness to different stimuli. I found this lab to be both informative and enjoyable, offering an opportunity to gauge our body's responses to stimuli. The gathered data seems to be consistent and devoid of any significant errors.\n",
        "\n",
        "\n",
        "\n",
        "\n",
        "\n"
      ],
      "metadata": {
        "id": "8v8yPyVWwKXp"
      }
    }
  ]
}